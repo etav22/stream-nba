{
 "cells": [
  {
   "cell_type": "code",
   "execution_count": 1,
   "metadata": {},
   "outputs": [],
   "source": [
    "import nba_api as nba\n",
    "import pandas as pd\n",
    "import numpy as np"
   ]
  },
  {
   "cell_type": "markdown",
   "metadata": {},
   "source": [
    "The goal of this notebook is to condition the data so that we are only getting data for a specific season"
   ]
  },
  {
   "cell_type": "code",
   "execution_count": 2,
   "metadata": {},
   "outputs": [],
   "source": [
    "from nba_api.stats.endpoints import playercareerstats\n",
    "from nba_api.stats.static import players\n",
    "# Anthony Davis\n",
    "career = playercareerstats.PlayerCareerStats(player_id='203076')\n",
    "df = career.get_data_frames()[0]"
   ]
  },
  {
   "cell_type": "code",
   "execution_count": 3,
   "metadata": {},
   "outputs": [
    {
     "data": {
      "text/plain": [
       "dict_keys(['SeasonTotalsRegularSeason', 'CareerTotalsRegularSeason', 'SeasonTotalsPostSeason', 'CareerTotalsPostSeason', 'SeasonTotalsAllStarSeason', 'CareerTotalsAllStarSeason', 'SeasonTotalsCollegeSeason', 'CareerTotalsCollegeSeason', 'SeasonTotalsShowcaseSeason', 'CareerTotalsShowcaseSeason', 'SeasonRankingsRegularSeason', 'SeasonRankingsPostSeason'])"
      ]
     },
     "execution_count": 3,
     "metadata": {},
     "output_type": "execute_result"
    }
   ],
   "source": [
    "career.get_available_data()"
   ]
  },
  {
   "cell_type": "code",
   "execution_count": 9,
   "metadata": {},
   "outputs": [],
   "source": [
    "from nba_api.stats.endpoints import leaguedashplayerstats\n",
    "df = leaguedashplayerstats.LeagueDashPlayerStats(season='2021-22').get_data_frames()[0]"
   ]
  },
  {
   "cell_type": "code",
   "execution_count": 10,
   "metadata": {},
   "outputs": [
    {
     "data": {
      "text/plain": [
       "Index(['PLAYER_ID', 'PLAYER_NAME', 'NICKNAME', 'TEAM_ID', 'TEAM_ABBREVIATION',\n",
       "       'AGE', 'GP', 'W', 'L', 'W_PCT', 'MIN', 'FGM', 'FGA', 'FG_PCT', 'FG3M',\n",
       "       'FG3A', 'FG3_PCT', 'FTM', 'FTA', 'FT_PCT', 'OREB', 'DREB', 'REB', 'AST',\n",
       "       'TOV', 'STL', 'BLK', 'BLKA', 'PF', 'PFD', 'PTS', 'PLUS_MINUS',\n",
       "       'NBA_FANTASY_PTS', 'DD2', 'TD3', 'WNBA_FANTASY_PTS', 'GP_RANK',\n",
       "       'W_RANK', 'L_RANK', 'W_PCT_RANK', 'MIN_RANK', 'FGM_RANK', 'FGA_RANK',\n",
       "       'FG_PCT_RANK', 'FG3M_RANK', 'FG3A_RANK', 'FG3_PCT_RANK', 'FTM_RANK',\n",
       "       'FTA_RANK', 'FT_PCT_RANK', 'OREB_RANK', 'DREB_RANK', 'REB_RANK',\n",
       "       'AST_RANK', 'TOV_RANK', 'STL_RANK', 'BLK_RANK', 'BLKA_RANK', 'PF_RANK',\n",
       "       'PFD_RANK', 'PTS_RANK', 'PLUS_MINUS_RANK', 'NBA_FANTASY_PTS_RANK',\n",
       "       'DD2_RANK', 'TD3_RANK', 'WNBA_FANTASY_PTS_RANK', 'CFID', 'CFPARAMS'],\n",
       "      dtype='object')"
      ]
     },
     "execution_count": 10,
     "metadata": {},
     "output_type": "execute_result"
    }
   ],
   "source": [
    "df.columns"
   ]
  },
  {
   "cell_type": "code",
   "execution_count": 11,
   "metadata": {},
   "outputs": [
    {
     "data": {
      "text/html": [
       "<div>\n",
       "<style scoped>\n",
       "    .dataframe tbody tr th:only-of-type {\n",
       "        vertical-align: middle;\n",
       "    }\n",
       "\n",
       "    .dataframe tbody tr th {\n",
       "        vertical-align: top;\n",
       "    }\n",
       "\n",
       "    .dataframe thead th {\n",
       "        text-align: right;\n",
       "    }\n",
       "</style>\n",
       "<table border=\"1\" class=\"dataframe\">\n",
       "  <thead>\n",
       "    <tr style=\"text-align: right;\">\n",
       "      <th></th>\n",
       "      <th>PLAYER_ID</th>\n",
       "      <th>PLAYER_NAME</th>\n",
       "      <th>NICKNAME</th>\n",
       "      <th>TEAM_ID</th>\n",
       "      <th>TEAM_ABBREVIATION</th>\n",
       "      <th>AGE</th>\n",
       "      <th>GP</th>\n",
       "      <th>W</th>\n",
       "      <th>L</th>\n",
       "      <th>W_PCT</th>\n",
       "      <th>...</th>\n",
       "      <th>PF_RANK</th>\n",
       "      <th>PFD_RANK</th>\n",
       "      <th>PTS_RANK</th>\n",
       "      <th>PLUS_MINUS_RANK</th>\n",
       "      <th>NBA_FANTASY_PTS_RANK</th>\n",
       "      <th>DD2_RANK</th>\n",
       "      <th>TD3_RANK</th>\n",
       "      <th>WNBA_FANTASY_PTS_RANK</th>\n",
       "      <th>CFID</th>\n",
       "      <th>CFPARAMS</th>\n",
       "    </tr>\n",
       "  </thead>\n",
       "  <tbody>\n",
       "    <tr>\n",
       "      <th>0</th>\n",
       "      <td>203932</td>\n",
       "      <td>Aaron Gordon</td>\n",
       "      <td>Aaron</td>\n",
       "      <td>1610612743</td>\n",
       "      <td>DEN</td>\n",
       "      <td>26.0</td>\n",
       "      <td>75</td>\n",
       "      <td>46</td>\n",
       "      <td>29</td>\n",
       "      <td>0.613</td>\n",
       "      <td>...</td>\n",
       "      <td>492</td>\n",
       "      <td>60</td>\n",
       "      <td>64</td>\n",
       "      <td>24</td>\n",
       "      <td>71</td>\n",
       "      <td>85</td>\n",
       "      <td>40</td>\n",
       "      <td>70</td>\n",
       "      <td>5</td>\n",
       "      <td>203932,1610612743</td>\n",
       "    </tr>\n",
       "    <tr>\n",
       "      <th>1</th>\n",
       "      <td>1630565</td>\n",
       "      <td>Aaron Henry</td>\n",
       "      <td>Aaron</td>\n",
       "      <td>1610612755</td>\n",
       "      <td>PHI</td>\n",
       "      <td>22.0</td>\n",
       "      <td>6</td>\n",
       "      <td>6</td>\n",
       "      <td>0</td>\n",
       "      <td>1.000</td>\n",
       "      <td>...</td>\n",
       "      <td>47</td>\n",
       "      <td>564</td>\n",
       "      <td>570</td>\n",
       "      <td>359</td>\n",
       "      <td>573</td>\n",
       "      <td>268</td>\n",
       "      <td>40</td>\n",
       "      <td>571</td>\n",
       "      <td>5</td>\n",
       "      <td>1630565,1610612755</td>\n",
       "    </tr>\n",
       "    <tr>\n",
       "      <th>2</th>\n",
       "      <td>1628988</td>\n",
       "      <td>Aaron Holiday</td>\n",
       "      <td>Aaron</td>\n",
       "      <td>1610612756</td>\n",
       "      <td>PHX</td>\n",
       "      <td>25.0</td>\n",
       "      <td>63</td>\n",
       "      <td>34</td>\n",
       "      <td>29</td>\n",
       "      <td>0.540</td>\n",
       "      <td>...</td>\n",
       "      <td>354</td>\n",
       "      <td>238</td>\n",
       "      <td>263</td>\n",
       "      <td>409</td>\n",
       "      <td>268</td>\n",
       "      <td>268</td>\n",
       "      <td>40</td>\n",
       "      <td>270</td>\n",
       "      <td>5</td>\n",
       "      <td>1628988,1610612756</td>\n",
       "    </tr>\n",
       "    <tr>\n",
       "      <th>3</th>\n",
       "      <td>1630174</td>\n",
       "      <td>Aaron Nesmith</td>\n",
       "      <td>Aaron</td>\n",
       "      <td>1610612738</td>\n",
       "      <td>BOS</td>\n",
       "      <td>22.0</td>\n",
       "      <td>52</td>\n",
       "      <td>32</td>\n",
       "      <td>20</td>\n",
       "      <td>0.615</td>\n",
       "      <td>...</td>\n",
       "      <td>298</td>\n",
       "      <td>373</td>\n",
       "      <td>363</td>\n",
       "      <td>200</td>\n",
       "      <td>378</td>\n",
       "      <td>268</td>\n",
       "      <td>40</td>\n",
       "      <td>371</td>\n",
       "      <td>5</td>\n",
       "      <td>1630174,1610612738</td>\n",
       "    </tr>\n",
       "    <tr>\n",
       "      <th>4</th>\n",
       "      <td>1630598</td>\n",
       "      <td>Aaron Wiggins</td>\n",
       "      <td>Aaron</td>\n",
       "      <td>1610612760</td>\n",
       "      <td>OKC</td>\n",
       "      <td>23.0</td>\n",
       "      <td>50</td>\n",
       "      <td>13</td>\n",
       "      <td>37</td>\n",
       "      <td>0.260</td>\n",
       "      <td>...</td>\n",
       "      <td>358</td>\n",
       "      <td>268</td>\n",
       "      <td>255</td>\n",
       "      <td>571</td>\n",
       "      <td>286</td>\n",
       "      <td>268</td>\n",
       "      <td>40</td>\n",
       "      <td>282</td>\n",
       "      <td>5</td>\n",
       "      <td>1630598,1610612760</td>\n",
       "    </tr>\n",
       "  </tbody>\n",
       "</table>\n",
       "<p>5 rows × 68 columns</p>\n",
       "</div>"
      ],
      "text/plain": [
       "   PLAYER_ID    PLAYER_NAME NICKNAME     TEAM_ID TEAM_ABBREVIATION   AGE  GP  \\\n",
       "0     203932   Aaron Gordon    Aaron  1610612743               DEN  26.0  75   \n",
       "1    1630565    Aaron Henry    Aaron  1610612755               PHI  22.0   6   \n",
       "2    1628988  Aaron Holiday    Aaron  1610612756               PHX  25.0  63   \n",
       "3    1630174  Aaron Nesmith    Aaron  1610612738               BOS  22.0  52   \n",
       "4    1630598  Aaron Wiggins    Aaron  1610612760               OKC  23.0  50   \n",
       "\n",
       "    W   L  W_PCT  ...  PF_RANK  PFD_RANK  PTS_RANK  PLUS_MINUS_RANK  \\\n",
       "0  46  29  0.613  ...      492        60        64               24   \n",
       "1   6   0  1.000  ...       47       564       570              359   \n",
       "2  34  29  0.540  ...      354       238       263              409   \n",
       "3  32  20  0.615  ...      298       373       363              200   \n",
       "4  13  37  0.260  ...      358       268       255              571   \n",
       "\n",
       "   NBA_FANTASY_PTS_RANK  DD2_RANK  TD3_RANK  WNBA_FANTASY_PTS_RANK  CFID  \\\n",
       "0                    71        85        40                     70     5   \n",
       "1                   573       268        40                    571     5   \n",
       "2                   268       268        40                    270     5   \n",
       "3                   378       268        40                    371     5   \n",
       "4                   286       268        40                    282     5   \n",
       "\n",
       "             CFPARAMS  \n",
       "0   203932,1610612743  \n",
       "1  1630565,1610612755  \n",
       "2  1628988,1610612756  \n",
       "3  1630174,1610612738  \n",
       "4  1630598,1610612760  \n",
       "\n",
       "[5 rows x 68 columns]"
      ]
     },
     "execution_count": 11,
     "metadata": {},
     "output_type": "execute_result"
    }
   ],
   "source": [
    "df.head()"
   ]
  },
  {
   "cell_type": "code",
   "execution_count": 17,
   "metadata": {},
   "outputs": [
    {
     "data": {
      "text/plain": [
       "'Trae Young'"
      ]
     },
     "execution_count": 17,
     "metadata": {},
     "output_type": "execute_result"
    }
   ],
   "source": [
    "df[df['PTS'] == df['PTS'].max()]"
   ]
  },
  {
   "cell_type": "code",
   "execution_count": null,
   "metadata": {},
   "outputs": [],
   "source": []
  }
 ],
 "metadata": {
  "kernelspec": {
   "display_name": "Python 3.9.12 ('.venv': venv)",
   "language": "python",
   "name": "python3"
  },
  "language_info": {
   "codemirror_mode": {
    "name": "ipython",
    "version": 3
   },
   "file_extension": ".py",
   "mimetype": "text/x-python",
   "name": "python",
   "nbconvert_exporter": "python",
   "pygments_lexer": "ipython3",
   "version": "3.9.12"
  },
  "orig_nbformat": 4,
  "vscode": {
   "interpreter": {
    "hash": "aa85999d8c53dc2faedf9c2a2ea6513fee363064107262f0615a77d34bca5ad1"
   }
  }
 },
 "nbformat": 4,
 "nbformat_minor": 2
}
